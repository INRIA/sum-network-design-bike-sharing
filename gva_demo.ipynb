{
 "cells": [
  {
   "cell_type": "markdown",
   "metadata": {},
   "source": [
    "Initialize the constants and variables"
   ]
  },
  {
   "cell_type": "markdown",
   "metadata": {},
   "source": [
    "1. Read the GVA Data"
   ]
  },
  {
   "cell_type": "code",
   "execution_count": null,
   "metadata": {},
   "outputs": [],
   "source": [
    "import pandas as pd\n",
    "from inocs_lab.tools.geo import filter_within_city_center\n",
    "\n",
    "#FORMAT : Long Code Stop;Stop;Municipality;Country;Didoc Code;Coordonnées;Actif\n",
    "INPUT_PT_STOPS_FILEPATH = './data/input/public_transport_stops.csv'\n",
    "\n",
    "#FORMAT : Date;Timeslot;Index Day Week;Line Type;Schedule Type;Line;Stop;Long Code Stop;Number of Boarding Passengers;Number of Disembarking Passengers;jour_semaine;Week Index;Month Year;Stop coordinates;Final Data;filter_graph\n",
    "INPUT_PT_RIDERSHIP_FILEPATH = \"./data/input/public_transport_ridership_2024.csv\"\n",
    "\n",
    "#FORMAT : name\tlatitude\tlongitude\n",
    "INPUT_BIKES_STOPS_FILEPATH = \"./data/input/shared_bikes_stations_2024.xlsx\"\n",
    "\n",
    "#FORMAT : trip_id,rental_id,vehicle_type,trip_started_at_utc,trip_ended_at_utc,latitude_start,longitude_start,latitude_end,longitude_end,distance_in_km\n",
    "INPUT_BIKE_TRIPS_FILEPATH = \"./data/input/bike_trips_2024.csv\"\n",
    "\n",
    "public_transport_stops = pd.read_csv(INPUT_PT_STOPS_FILEPATH)\n",
    "public_transport_ridership = pd.read_csv(INPUT_PT_RIDERSHIP_FILEPATH)\n",
    "shared_bikes_stations = pd.read_excel(INPUT_BIKES_STOPS_FILEPATH)\n",
    "bike_trips = pd.read_csv(INPUT_BIKE_TRIPS_FILEPATH)\n",
    "\n",
    "# convert to dataframe\n",
    "# filter 1 km around city center\n",
    "\n"
   ]
  },
  {
   "cell_type": "code",
   "execution_count": null,
   "metadata": {},
   "outputs": [],
   "source": [
    "#1 pre-process data, compatible with model\n",
    "#2 run model\n",
    "#3 post-process data, visualization"
   ]
  },
  {
   "cell_type": "markdown",
   "metadata": {},
   "source": []
  }
 ],
 "metadata": {
  "kernelspec": {
   "display_name": "env",
   "language": "python",
   "name": "python3"
  },
  "language_info": {
   "codemirror_mode": {
    "name": "ipython",
    "version": 3
   },
   "file_extension": ".py",
   "mimetype": "text/x-python",
   "name": "python",
   "nbconvert_exporter": "python",
   "pygments_lexer": "ipython3",
   "version": "3.12.3"
  }
 },
 "nbformat": 4,
 "nbformat_minor": 2
}
